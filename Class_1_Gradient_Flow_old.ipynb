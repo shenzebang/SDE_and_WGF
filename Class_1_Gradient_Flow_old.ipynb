{
 "cells": [
  {
   "cell_type": "markdown",
   "id": "e07b4624",
   "metadata": {},
   "source": [
    "# Gradient Flow"
   ]
  },
  {
   "cell_type": "markdown",
   "id": "06e34dda",
   "metadata": {},
   "source": [
    "## Gradient Flow: Old"
   ]
  },
  {
   "cell_type": "markdown",
   "id": "3285f523",
   "metadata": {},
   "source": [
    "### Optimization problem in Euclidean space\n",
    "Let $\\mathcal{X} \\subseteq \\mathbb{R}^d$ be the ground domain of data points and let $\\mathcal{M}$ be the space of probability measures over $\\mathcal{X}$, i.e. for $\\mu\\in\\mathcal{M}$, $\\forall x\\in\\mathcal{X}, \\mu(x) \\geq 0$ and $\\int_{\\mathcal{X}} \\mu(x) \\mathrm{d} x = 1$. Consider the following optimization problem\n",
    "$$\\min_{\\theta\\in \\mathbb{R}^m} \\mathcal{L}(\\theta) = \\int_{\\mathcal{X}} \\ell(x, f_\\theta(x)) \\mu(x) \\mathrm{d} x,$$\n",
    "where $\\ell:\\mathcal{X} \\times \\mathbb{R}^m \\rightarrow \\mathbb{R}$ is some loss function, $f_\\theta: \\mathcal{X} \\rightarrow \\mathcal{R}^m$ is some variable function parameterized by $\\theta \\in \\mathbb{R}^m$, and $\\mu \\in \\mathcal{M}(\\mathcal{X})$ is some weight measure."
   ]
  },
  {
   "cell_type": "markdown",
   "id": "fa5f5039",
   "metadata": {},
   "source": [
    "### Gradient in Euclidean space\n",
    "Let us recall the definition of the gradient of a function $\\mathcal{L}$ with respect to the variable $\\theta$: \n",
    "Suppose that given $\\theta_0 \\in \\mathbb{R}^m$, the following equation holds for any $\\delta \\theta \\in \\mathbb{R}^{m}$\n",
    "$$\\lim_{\\epsilon\\rightarrow 0} \\frac{1}{\\epsilon}|\\mathcal{L}(\\theta + \\epsilon\\cdot\\delta\\theta) - \\mathcal{L}(\\theta) - \\epsilon \\langle \\nabla_{\\theta} \\mathcal{L}_{\\vert \\theta = \\theta_0}, \\delta\\theta)|  = 0.$$\n",
    "We call $\\nabla_{\\theta} \\mathcal{L}_{\\vert \\theta = \\theta_0}$ the gradient of $\\mathcal{L}$ w.r.t. $\\theta$ at $\\theta = \\theta_0$. For the simplicity of notations, we denote it by $\\nabla \\mathcal{L}(\\theta_0)$."
   ]
  },
  {
   "cell_type": "markdown",
   "id": "ed7d726d",
   "metadata": {},
   "source": [
    "### (optional) Alternative definition of the gradient in Euclidean space\n",
    "Given $\\theta_0 \\in \\mathbb{R}^m$, suppose that for any differentiable trajectory $\\{\\theta(t)\\}_{t\\in[- \\delta t, + \\delta t]}$ that satisfies $\\theta(0) = \\theta_0$, the following equation holds\n",
    "$$\\frac{\\mathrm{d}}{\\mathrm{d} t} \\mathcal{L}(\\theta(t))_{\\vert t=0} = \\langle \\nabla \\mathcal{L}(\\theta_0), \\dot \\theta(0) \\rangle.$$"
   ]
  },
  {
   "cell_type": "markdown",
   "id": "59a49955",
   "metadata": {},
   "source": [
    "### Gradient flow in the Euclidean space (EGF)\n",
    "Our goal is to find a stationary point of the minimization problem $\\min_\\theta \\mathcal{L}(\\theta)$ which is to solve the static equation\n",
    "$$\\nabla \\mathcal{L}(\\theta) = 0.$$\n",
    "The gradient flow is the following dynamic equation that satisfies the above static equation at its equilibrium\n",
    "$$\n",
    "\\frac{\\mathrm{d}}{\\mathrm{d} t} \\theta(t) = - \\nabla \\mathcal{L}(\\theta(t)),\\ \\mathrm{with}\\ \\theta(0) = \\theta_0.\n",
    "$$\n",
    "It is the continuous limit of the well-known gradient descent method.\n",
    "#### (optional) Key ingredients of a gradient flow\n",
    "From the above gradient flow in the Euclidean space, it may seems that to define a gradient flow, the only ingradient that we need is the objective function $\\mathcal{L}$. However, this is only true in this special case since the inner product (or more generally the norm) of the Euclidean space is given a priori. \n",
    "\n",
    "In fact, to define a gradient flow, there two key ingradients:\n",
    "1. the objective function ($\\mathcal{L}$ in the EGF case) and \n",
    "2. the inner product structure (or more generally the norm structure) of the underlying space of the variable (\\mathbb{R}^m in the EGF case).\n",
    "\n",
    "In the following (and in the rest of the course), we will elaborate on examples where the inner product structure of the underlying space is not so obvious."
   ]
  },
  {
   "cell_type": "markdown",
   "id": "f633038c",
   "metadata": {},
   "source": [
    "#### An concrete example of the gradient flow in the Euclidean space"
   ]
  },
  {
   "cell_type": "code",
   "execution_count": null,
   "id": "8ba6b8d5",
   "metadata": {},
   "outputs": [],
   "source": []
  },
  {
   "cell_type": "markdown",
   "id": "65b36148",
   "metadata": {},
   "source": [
    "### Heat equation\n",
    "We now introduce the heat equation (HE), which will be the key example of our mini course. We will show that HE is the gradient flow of the Dirichlet energy in the $\\mathcal{L}^2(\\mathcal{M})$ function space and it is also the gradient flow of the entropy in the Wasserstein-2 space. Don't worry that you are not familiar with these concepts as they will be described in details in this course.\n",
    "\n",
    "#### (optional) Derive HE from basic laws of physics\n"
   ]
  },
  {
   "cell_type": "markdown",
   "id": "8b320ac1",
   "metadata": {},
   "source": [
    "### HE is the gradient flow of the Dirichlet energy in the $\\mathcal{L}^2(\\mathcal{M})$ function space\n",
    "\n",
    "#### $\\mathcal{L}^2(\\mathcal{M})$ function space\n",
    "\n",
    "#### Functional gradient\n",
    "\n",
    "#### Dirichlet energy and HE"
   ]
  },
  {
   "cell_type": "markdown",
   "id": "61f6fd64",
   "metadata": {},
   "source": [
    "#### An concrete example of HE"
   ]
  },
  {
   "cell_type": "code",
   "execution_count": null,
   "id": "39fb671a",
   "metadata": {},
   "outputs": [],
   "source": []
  },
  {
   "cell_type": "markdown",
   "id": "59469847",
   "metadata": {},
   "source": [
    "## Gradient Flow: New"
   ]
  },
  {
   "cell_type": "code",
   "execution_count": null,
   "id": "e75c1a2c",
   "metadata": {},
   "outputs": [],
   "source": []
  }
 ],
 "metadata": {
  "kernelspec": {
   "display_name": "Python 3 (ipykernel)",
   "language": "python",
   "name": "python3"
  },
  "language_info": {
   "codemirror_mode": {
    "name": "ipython",
    "version": 3
   },
   "file_extension": ".py",
   "mimetype": "text/x-python",
   "name": "python",
   "nbconvert_exporter": "python",
   "pygments_lexer": "ipython3",
   "version": "3.9.7"
  }
 },
 "nbformat": 4,
 "nbformat_minor": 5
}
